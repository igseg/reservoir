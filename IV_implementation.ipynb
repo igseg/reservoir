{
 "cells": [
  {
   "cell_type": "code",
   "execution_count": 1,
   "id": "116429f5-4e79-40be-996e-cb383aa58aea",
   "metadata": {},
   "outputs": [],
   "source": [
    "import numpy  as np\n",
    "import pandas as pd\n",
    "import data_tools\n",
    "import matplotlib.pyplot as plt\n",
    "\n",
    "from scipy.stats import norm\n",
    "from Models.models import *"
   ]
  },
  {
   "cell_type": "markdown",
   "id": "387c9ba5-0aa0-47e4-9219-ebc901aabed5",
   "metadata": {},
   "source": [
    "## Some functions "
   ]
  },
  {
   "cell_type": "code",
   "execution_count": 2,
   "id": "1c31828c-7fb2-4574-81b3-84847733d395",
   "metadata": {},
   "outputs": [],
   "source": [
    "ts = pd.read_csv('Preprocessed_data/ts.csv')\n",
    "\n",
    "log_diff_prices = ts.price.values\n",
    "log_diff_prices = np.array(log_diff_prices, dtype=float)\n",
    "log_diff_prices = np.diff(np.log(log_diff_prices))\n",
    "log_diff_prices = np.concatenate((np.array([0]), log_diff_prices))\n",
    "ts['log_diff_prices'] = log_diff_prices\n",
    "\n",
    "yearmonth = list(ts['yearmonth'])\n",
    "x_label   = data_tools.from_index_to_dates(yearmonth)\n",
    "\n",
    "ts['X'] = np.zeros(ts.shape[0])\n",
    "\n",
    "for t in ts.index:\n",
    "    if t == 0:\n",
    "        continue\n",
    "        \n",
    "    curr_price = ts.loc[t  , 'price']\n",
    "    prev_price = ts.loc[t-1, 'price'] \n",
    "    \n",
    "    ts.loc[t,'X'] = residual(prev_price,curr_price,t)\n",
    "\n",
    "eta = 0.5\n",
    "zd  = 105.69451612903225\n",
    "r   = 0.05\n",
    "\n",
    "discount = 1/(1+r)\n",
    "\n",
    "elev_stor = zip(ts.elevation.values,ts.storage.values)\n",
    "elev_stor = sorted(elev_stor, key=lambda x: (x[1],x[0]))\n",
    "\n",
    "def get_middle_points(x):\n",
    "    x = np.array(x)\n",
    "    return (x[:-1] + x[1:])/2\n",
    "\n",
    "\n",
    "def pi_fun(storage, inflow, t, P, q, model_inflow, model_evaporation):\n",
    "    \n",
    "    expected_storage = model_storage(model_inflow, inflow , model_evaporation, t, storage, q) # this may not be needed if forecast is done.\n",
    "    \n",
    "    return eta * q * ((z(storage, elev_stor) + z(expected_storage,elev_stor))/2 - zd) * P\n",
    "\n",
    "#def inter_0_extremes()"
   ]
  },
  {
   "cell_type": "markdown",
   "id": "392aaa01-3105-47c9-adfa-c5ca59b0c244",
   "metadata": {},
   "source": [
    "## Define inputs"
   ]
  },
  {
   "cell_type": "markdown",
   "id": "fbc6f4d1-b35d-4bd6-8af9-6ed6873517e0",
   "metadata": {},
   "source": [
    "### Grids"
   ]
  },
  {
   "cell_type": "code",
   "execution_count": 95,
   "id": "e6b59bae-2b22-47c9-a3de-90f878acd2dc",
   "metadata": {},
   "outputs": [],
   "source": [
    "N = 10 # For the storage grid\n",
    "M = 10 # For the price grid\n",
    "L = 10 # For the outflow grid\n",
    "S = 3 # For the states\n",
    "\n",
    "\n",
    "P_min = 0.020\n",
    "P_max = 0.160\n",
    "\n",
    "I_min = 2000\n",
    "I_max = 3000\n",
    "\n",
    "q_min = 0\n",
    "q_max = 245\n",
    "\n",
    "price_grid   = get_middle_points(np.arange(P_min, P_max+ 2**-15, (P_max - P_min)/M))\n",
    "storage_grid = get_middle_points(np.arange(I_min, I_max+ 2**-15, (I_max - I_min)/N))\n",
    "\n",
    "rho = 2.33\n",
    "K = 10 # number of shocks in the storage grid\n",
    "J = 10 # number of shocks in the prices grid\n",
    "\n",
    "shocks_storage  = get_middle_points(np.arange(-rho, rho+2**-15, (2*rho)/ K))\n",
    "\n",
    "dist_shocks_storage = (shocks_storage[1] - shocks_storage[0])/2\n",
    "prob_shocks_storage = norm.cdf(shocks_storage[:] + dist_shocks_storage) - norm.cdf(shocks_storage[:] - dist_shocks_storage)\n",
    "\n",
    "shocks_prices  = get_middle_points(np.arange(-rho, rho+2**-15, (2*rho)/ J))\n",
    "\n",
    "dist_shocks_prices = (shocks_prices[1] - shocks_prices[0])/2\n",
    "prob_shocks_prices = norm.cdf(shocks_prices[:] + dist_shocks_prices) - norm.cdf(shocks_prices[:] - dist_shocks_prices)\n",
    "\n",
    "\n",
    "\n",
    "outflow_grid = np.arange(q_min, q_max+ 2**-15, (q_max - q_min)/L) # L+1 elements\n",
    "\n",
    "V0 = np.zeros((N,M))\n",
    "V1 = np.zeros((N,M))\n",
    "\n",
    "policy = np.zeros((S,N,M))"
   ]
  },
  {
   "cell_type": "markdown",
   "id": "fd42cccb-5ad9-4428-9569-cca410fbf6c7",
   "metadata": {
    "tags": []
   },
   "source": [
    "### Forecast inflow and storage"
   ]
  },
  {
   "cell_type": "code",
   "execution_count": 4,
   "id": "8aabf5eb-6728-4917-8a4a-4d24f6d034b8",
   "metadata": {},
   "outputs": [],
   "source": [
    "time = ts.shape[0]\n",
    "ts_forecast = ts.copy()\n",
    "\n",
    "for i in range(N):\n",
    "    \n",
    "    current_time = time + i\n",
    "    \n",
    "    prev_inflow  = ts_forecast.loc[current_time - 1, 'inflow' ]\n",
    "    prev_storage = ts_forecast.loc[current_time - 1, 'storage']\n",
    "    \n",
    "    current_storage = model_storage(model_inflow,prev_inflow, model_evaporation, current_time, prev_storage, prev_inflow)\n",
    "    current_inflow  = model_inflow(current_time, prev_inflow)\n",
    "    \n",
    "    ts_forecast.loc[current_time,'storage'] = current_storage\n",
    "    ts_forecast.loc[current_time,'inflow']  = current_inflow"
   ]
  },
  {
   "cell_type": "markdown",
   "id": "9b3e0071-66c6-42fa-84cb-2224c320e1ac",
   "metadata": {
    "tags": []
   },
   "source": [
    "### Forecast prices"
   ]
  },
  {
   "cell_type": "code",
   "execution_count": 39,
   "id": "62fb623a-ddd8-4e58-b455-dcfc101887af",
   "metadata": {},
   "outputs": [],
   "source": [
    "# Forecasting Prices M steps ahead\n",
    "for i in range(M):\n",
    "    \n",
    "    current_time = time + i\n",
    "    \n",
    "    prev     = ts_forecast.loc[current_time-1,  'price']\n",
    "    prev_x   = ts_forecast.loc[current_time-1,  'X']\n",
    "    prev_y_x = ts_forecast.loc[current_time-12, 'X']\n",
    "    \n",
    "    log_P      = model_log_prices(current_time,prev, prev_x, prev_y_x)\n",
    "    curr_price = np.exp(log_P)\n",
    "    \n",
    "    ts_forecast.loc[current_time,'price'] = curr_price\n",
    "    \n",
    "    X = residual(prev,curr_price,current_time)\n",
    "    ts_forecast.loc[current_time,'X'] = X"
   ]
  },
  {
   "cell_type": "markdown",
   "id": "1be3c7f5-9a32-49cf-990b-4c70e809c5f4",
   "metadata": {},
   "source": [
    "## Algorithm "
   ]
  },
  {
   "cell_type": "code",
   "execution_count": 6,
   "id": "0b512b4b-7dcc-4667-b4fd-b68dc30519f4",
   "metadata": {},
   "outputs": [],
   "source": [
    "pi_call = lambda storage, inflow, t, P, q: pi_fun(storage, inflow, t, P, q, model_inflow, model_evaporation)"
   ]
  },
  {
   "cell_type": "code",
   "execution_count": 96,
   "id": "0ac32a71-d1a2-4e97-a3d6-696d2e301587",
   "metadata": {
    "tags": []
   },
   "outputs": [
    {
     "name": "stdout",
     "output_type": "stream",
     "text": [
      "1\n",
      "2\n",
      "3\n"
     ]
    }
   ],
   "source": [
    "max_ite = 3\n",
    "ite     = 0\n",
    "tol     = 2**-3\n",
    "\n",
    "while ite < max_ite:\n",
    "    \n",
    "    for s in range(S):\n",
    "        current_time = time + s\n",
    "        for n in range(N):\n",
    "            inflow       = ts_forecast.loc[current_time,'inflow']\n",
    "            storage      = storage_grid[n]\n",
    "#             storage      = ts_forecast.loc[current_time,'storage']\n",
    "#             print(storage)\n",
    "\n",
    "            for m in range(M):\n",
    "                price = price_grid[m]\n",
    "                actions = []\n",
    "                for q in outflow_grid:\n",
    "                    input_next_storage = [model_inflow, ts_forecast.loc[current_time - 1,'inflow'] , model_evaporation, t,\n",
    "                                          storage, q, model_storage]\n",
    "                    input_next_price   = [current_time, price]\n",
    "\n",
    "                    reward = pi_call(storage, inflow, current_time, price, q) + discount * future_payments(V0,shocks_storage, prob_shocks_storage, shocks_prices, \n",
    "                                                                                                           prob_shocks_prices, input_next_storage, input_next_price, \n",
    "                                                                                                           price_grid, storage_grid)\n",
    "                    actions.append(reward)\n",
    "\n",
    "                policy[s,n,m]  = outflow_grid[np.argmax(actions)]\n",
    "                V1[n,m]      = np.max(actions) \n",
    "\n",
    "    if np.max(np.abs(V0-V1)) < tol:\n",
    "        V0 = V1.copy()\n",
    "        break\n",
    "        \n",
    "    V0   = V1.copy()\n",
    "    ite += 1\n",
    "    print(ite)"
   ]
  },
  {
   "cell_type": "code",
   "execution_count": 97,
   "id": "b280b55d-afa1-40d3-aab4-90bb9fc4a5bc",
   "metadata": {
    "tags": []
   },
   "outputs": [
    {
     "data": {
      "text/plain": [
       "array([[[ 49. ,  49. ,  49. ,  49. ,  49. ,  49. ,  49. ,  49. ,  49. ,\n",
       "          49. ],\n",
       "        [ 98. ,  98. ,  98. ,  98. ,  98. ,  98. ,  98. ,  98. ,  98. ,\n",
       "          98. ],\n",
       "        [ 98. ,  98. ,  98. ,  98. ,  98. ,  98. ,  98. ,  98. ,  98. ,\n",
       "          98. ],\n",
       "        [147. , 147. , 147. , 147. , 147. , 147. , 147. , 147. , 147. ,\n",
       "         147. ],\n",
       "        [196. , 196. , 196. , 196. , 196. , 196. , 196. , 196. , 196. ,\n",
       "         196. ],\n",
       "        [220.5, 220.5, 220.5, 220.5, 220.5, 220.5, 220.5, 220.5, 220.5,\n",
       "         220.5],\n",
       "        [220.5, 220.5, 220.5, 147. , 220.5, 220.5, 220.5, 220.5, 220.5,\n",
       "         220.5],\n",
       "        [220.5, 220.5, 220.5, 220.5, 220.5, 220.5, 220.5, 220.5, 220.5,\n",
       "         220.5],\n",
       "        [220.5, 220.5, 220.5, 220.5, 220.5, 220.5, 220.5, 220.5, 220.5,\n",
       "         220.5],\n",
       "        [220.5, 220.5, 220.5, 220.5, 220.5, 220.5, 220.5, 220.5, 220.5,\n",
       "         220.5]],\n",
       "\n",
       "       [[ 24.5,  24.5,  24.5,  24.5,  24.5,  24.5,  24.5,  24.5,  24.5,\n",
       "          24.5],\n",
       "        [ 98. ,  98. ,  98. ,  98. ,  98. ,  98. ,  98. ,  98. ,  98. ,\n",
       "          98. ],\n",
       "        [ 98. ,  98. ,  98. ,  98. ,  98. ,  98. ,  98. ,  98. ,  98. ,\n",
       "          98. ],\n",
       "        [147. , 147. , 147. , 147. , 147. , 147. , 147. , 147. , 147. ,\n",
       "         147. ],\n",
       "        [196. , 196. , 196. , 196. , 196. , 196. , 196. , 196. , 196. ,\n",
       "         196. ],\n",
       "        [245. , 245. , 245. , 245. , 245. , 245. , 245. , 245. , 245. ,\n",
       "         245. ],\n",
       "        [245. , 245. , 245. , 245. , 245. , 245. , 245. , 245. , 245. ,\n",
       "         245. ],\n",
       "        [245. , 245. , 245. , 245. , 245. , 245. , 245. , 245. , 245. ,\n",
       "         245. ],\n",
       "        [245. , 245. , 245. , 245. , 245. , 245. , 245. , 245. , 245. ,\n",
       "         245. ],\n",
       "        [245. , 245. , 245. , 245. , 245. , 245. , 245. , 245. , 245. ,\n",
       "         245. ]],\n",
       "\n",
       "       [[ 49. ,  49. ,  49. ,  49. ,  49. ,  49. ,  49. ,  49. ,  49. ,\n",
       "          49. ],\n",
       "        [ 98. ,  98. ,  49. ,  49. ,  49. ,  49. ,  49. ,  49. ,  49. ,\n",
       "          98. ],\n",
       "        [122.5, 122.5, 122.5,  49. ,  98. ,  98. ,  98. ,  98. , 122.5,\n",
       "         122.5],\n",
       "        [171.5, 171.5, 171.5,  49. , 171.5, 171.5, 171.5, 171.5, 171.5,\n",
       "         171.5],\n",
       "        [220.5, 220.5, 220.5, 220.5, 220.5, 220.5, 220.5, 220.5, 220.5,\n",
       "         220.5],\n",
       "        [220.5, 220.5, 220.5, 220.5, 220.5, 220.5, 220.5, 220.5, 220.5,\n",
       "         220.5],\n",
       "        [220.5, 220.5, 220.5, 220.5, 220.5, 220.5, 220.5, 220.5, 220.5,\n",
       "         220.5],\n",
       "        [220.5, 220.5, 220.5, 220.5, 220.5, 220.5, 220.5, 220.5, 220.5,\n",
       "         220.5],\n",
       "        [220.5, 220.5, 220.5, 220.5, 220.5, 220.5, 220.5, 220.5, 220.5,\n",
       "         220.5],\n",
       "        [220.5, 220.5, 220.5, 220.5, 220.5, 220.5, 220.5, 220.5, 220.5,\n",
       "         220.5]]])"
      ]
     },
     "execution_count": 97,
     "metadata": {},
     "output_type": "execute_result"
    }
   ],
   "source": [
    "policy"
   ]
  },
  {
   "cell_type": "code",
   "execution_count": 84,
   "id": "f8802cbd-672f-4015-9211-76e50b89d958",
   "metadata": {},
   "outputs": [],
   "source": [
    "# This function has a wide margin for acceleration\n",
    "\n",
    "def future_payments(V,shocks_storage, probs_shock_storage, shocks_price, probs_shock_price, input_next_storage, input_next_price, price_grid, storage_grid):\n",
    "    K = len(shocks_storage)\n",
    "    J = len(shocks_price  )\n",
    "    \n",
    "    future_payment = 0\n",
    "    \n",
    "    for k in range(K):\n",
    "        for j in range(J):\n",
    "            future_storage = next_storage(*input_next_storage, shocks_storage[k]) \n",
    "            future_price   = next_price(  *input_next_price  , shocks_price[j])\n",
    "            \n",
    "            x,y = nearest(future_storage, storage_grid, future_price, price_grid) # this can be refined\n",
    "            \n",
    "            payment = V[x,y] * probs_shock_price[j] * probs_shock_storage[k]\n",
    "            \n",
    "            future_payment += payment\n",
    "            \n",
    "            if future_storage < 2000:\n",
    "                future_payment = - 1000\n",
    "    \n",
    "    return future_payment"
   ]
  },
  {
   "cell_type": "code",
   "execution_count": 8,
   "id": "6cb45c9c-d55a-4a9d-a834-a66c84580f60",
   "metadata": {},
   "outputs": [],
   "source": [
    "def nearest(next_storage, storage_grid, next_price, price_grid):\n",
    "    x = np.argmin(np.abs(storage_grid - next_storage))\n",
    "    y = np.argmin(np.abs(price_grid - next_price))\n",
    "    \n",
    "    return x, y"
   ]
  },
  {
   "cell_type": "code",
   "execution_count": 32,
   "id": "f774eb5f-5020-44d9-a390-1ef543153012",
   "metadata": {},
   "outputs": [
    {
     "data": {
      "text/plain": [
       "3"
      ]
     },
     "execution_count": 32,
     "metadata": {},
     "output_type": "execute_result"
    }
   ],
   "source": [
    "np.argmin(np.abs(price_grid-0.07))"
   ]
  },
  {
   "cell_type": "code",
   "execution_count": 33,
   "id": "de398c94-c4b8-4a05-b75d-246dcd1d2876",
   "metadata": {},
   "outputs": [
    {
     "data": {
      "text/plain": [
       "0.069"
      ]
     },
     "execution_count": 33,
     "metadata": {},
     "output_type": "execute_result"
    }
   ],
   "source": [
    "price_grid[3]"
   ]
  },
  {
   "cell_type": "code",
   "execution_count": null,
   "id": "8fd6a924-5a2e-4c90-800e-929ef0698986",
   "metadata": {},
   "outputs": [],
   "source": []
  }
 ],
 "metadata": {
  "kernelspec": {
   "display_name": "Python 3",
   "language": "python",
   "name": "python3"
  },
  "language_info": {
   "codemirror_mode": {
    "name": "ipython",
    "version": 3
   },
   "file_extension": ".py",
   "mimetype": "text/x-python",
   "name": "python",
   "nbconvert_exporter": "python",
   "pygments_lexer": "ipython3",
   "version": "3.9.5"
  }
 },
 "nbformat": 4,
 "nbformat_minor": 5
}
