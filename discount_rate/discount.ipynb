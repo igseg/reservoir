{
 "cells": [
  {
   "cell_type": "code",
   "execution_count": 1,
   "id": "f4546668-e870-43b3-887d-23fad080635c",
   "metadata": {},
   "outputs": [],
   "source": [
    "import pandas as pd\n",
    "import numpy  as np"
   ]
  },
  {
   "cell_type": "markdown",
   "id": "5622d216-655b-48c2-9586-1502a11ff189",
   "metadata": {},
   "source": [
    "## Preprocessing"
   ]
  },
  {
   "cell_type": "code",
   "execution_count": 2,
   "id": "eab29494-8434-4894-9c13-eadadac591b0",
   "metadata": {},
   "outputs": [],
   "source": [
    "business = pd.read_csv('DUK.csv')\n",
    "business = business[['Date', 'Adj Close']]\n",
    "returns  = np.log(business['Adj Close'].values[1:]) - np.log(business['Adj Close'].values[:-1]) # price to return\n",
    "business.loc[1:,'Adj Close'] = returns                                                          # eliminating first row as it was used to compute returns\n",
    "business = business.iloc[1:-3,:]\n",
    "business['Adj Close'] = business['Adj Close'] * 12\n",
    "\n",
    "rf_rate  = pd.read_csv('rf_rate.csv')\n",
    "rf_rate  = rf_rate[['Date', 'Adj Close']]\n",
    "rf_rate  = rf_rate.iloc[1:-2,:]\n",
    "rf_rate['Adj Close'] = rf_rate['Adj Close'] /100"
   ]
  },
  {
   "cell_type": "code",
   "execution_count": 3,
   "id": "0e28f5ae-ed44-4209-81cf-6bf08f2f2f80",
   "metadata": {},
   "outputs": [],
   "source": [
    "market = pd.read_csv('49_industry_portfolios.csv')\n",
    "market = market[['Date', 'Util ']]\n",
    "market['Date'] = market.Date.apply(lambda x: str(x)[:4] + f'-{str(x)[4:6]}'+ '-01')\n",
    "init_index = np.where(market.Date.values == business.Date.values[0 ])[0][0]\n",
    "last_index = np.where(market.Date.values == business.Date.values[-1])[0][0]\n",
    "market = market.iloc[init_index:last_index+1,:]\n",
    "market['Util '] = market['Util ']/ 100 * 12"
   ]
  },
  {
   "cell_type": "markdown",
   "id": "ed345c9a-8c30-487c-b873-1f5daa060f76",
   "metadata": {},
   "source": [
    "### Merging"
   ]
  },
  {
   "cell_type": "code",
   "execution_count": 4,
   "id": "a311eafe-ba39-4b1d-b98d-a13249317a8a",
   "metadata": {},
   "outputs": [],
   "source": [
    "data = business.merge(rf_rate, left_on='Date', right_on='Date', suffixes=('_business','_rf'))\n",
    "data = data.merge(market, left_on='Date', right_on='Date', suffixes=('','_market'))"
   ]
  },
  {
   "cell_type": "code",
   "execution_count": 10,
   "id": "f695748f-80c6-46f2-8f22-4c32d1430941",
   "metadata": {},
   "outputs": [],
   "source": [
    "data = data.iloc[:190] # last month dec 2019"
   ]
  },
  {
   "cell_type": "markdown",
   "id": "71c39911-738b-40b2-ae07-09accee26c1f",
   "metadata": {},
   "source": [
    "## Computing results"
   ]
  },
  {
   "cell_type": "code",
   "execution_count": 11,
   "id": "131fc928-aee0-4287-86ce-addb879f6530",
   "metadata": {},
   "outputs": [],
   "source": [
    "betas = []\n",
    "get_window = lambda x,index,size: x.values[index: index + size]\n",
    "for idx in range(business.shape[0] - 60):\n",
    "    variance   = np.var(get_window(data['Adj Close_business'], idx, 60))\n",
    "    covariance = np.cov(get_window(data['Adj Close_business'], idx, 60),get_window(data['Util '], idx, 60))[0,1]\n",
    "    betas.append(covariance/variance)\n",
    "betas = np.array(betas)"
   ]
  },
  {
   "cell_type": "code",
   "execution_count": 12,
   "id": "2a319fdc-79a7-4921-a762-d4bb35bc8de6",
   "metadata": {},
   "outputs": [
    {
     "name": "stdout",
     "output_type": "stream",
     "text": [
      "0.6106978053189916\n",
      "0.012855105263157895\n",
      "0.09239752631578947\n",
      "0.0692820718011143\n",
      "0.048315756667759\n"
     ]
    }
   ],
   "source": [
    "beta       = np.median(betas)\n",
    "risk_free  = data['Adj Close_rf'].mean()\n",
    "risk_prem  = data['Util '].mean() - risk_free\n",
    "r_hydro    = risk_free + beta * risk_prem\n",
    "r_real     = (1 + r_hydro) / (1 + 0.02) - 1 \n",
    "\n",
    "print(beta)\n",
    "print(risk_free)\n",
    "print(risk_prem)\n",
    "print(r_hydro)\n",
    "print(r_real)"
   ]
  },
  {
   "cell_type": "code",
   "execution_count": null,
   "id": "e99d545c-fb99-4f8b-b958-e439f591539b",
   "metadata": {},
   "outputs": [],
   "source": []
  }
 ],
 "metadata": {
  "kernelspec": {
   "display_name": "Python 3",
   "language": "python",
   "name": "python3"
  },
  "language_info": {
   "codemirror_mode": {
    "name": "ipython",
    "version": 3
   },
   "file_extension": ".py",
   "mimetype": "text/x-python",
   "name": "python",
   "nbconvert_exporter": "python",
   "pygments_lexer": "ipython3",
   "version": "3.9.5"
  }
 },
 "nbformat": 4,
 "nbformat_minor": 5
}
