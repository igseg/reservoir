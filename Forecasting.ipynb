{
 "cells": [
  {
   "cell_type": "code",
   "execution_count": 75,
   "id": "c8a5c4ec-2b9b-49c4-abb3-2734f5c1a1ee",
   "metadata": {},
   "outputs": [],
   "source": [
    "import numpy  as np\n",
    "import pandas as pd\n",
    "import data_tools\n",
    "import matplotlib.pyplot as plt\n",
    "\n",
    "from Models.models import *"
   ]
  },
  {
   "cell_type": "code",
   "execution_count": 48,
   "id": "4b63aa9f-550a-44e7-8160-c439a6943329",
   "metadata": {},
   "outputs": [],
   "source": [
    "ts = pd.read_csv('Preprocessed_data/ts.csv')\n",
    "\n",
    "log_diff_prices = ts.price.values\n",
    "log_diff_prices = np.array(log_diff_prices, dtype=float)\n",
    "log_diff_prices = np.diff(np.log(log_diff_prices))\n",
    "log_diff_prices = np.concatenate((np.array([0]), log_diff_prices))\n",
    "ts['log_diff_prices'] = log_diff_prices\n",
    "\n",
    "yearmonth = list(ts['yearmonth'])\n",
    "x_label   = data_tools.from_index_to_dates(yearmonth)\n",
    "\n",
    "ts['X'] = np.zeros(ts.shape[0])\n",
    "\n",
    "for t in ts.index:\n",
    "    if t == 0:\n",
    "        continue\n",
    "        \n",
    "    curr_price = ts.loc[t  , 'price']\n",
    "    prev_price = ts.loc[t-1, 'price'] \n",
    "    \n",
    "    ts.loc[t,'X'] = residual(prev_price,curr_price,t)\n"
   ]
  },
  {
   "cell_type": "code",
   "execution_count": 58,
   "id": "f3a4f13c-b483-42cd-91c7-83af7ccc8e1d",
   "metadata": {},
   "outputs": [],
   "source": [
    "time = ts.index[-1]"
   ]
  },
  {
   "cell_type": "code",
   "execution_count": 78,
   "id": "7653d477-3d51-487a-8c2c-ce2f0cd62ed2",
   "metadata": {},
   "outputs": [],
   "source": [
    "ts_forecast = ts.copy()"
   ]
  },
  {
   "cell_type": "code",
   "execution_count": 79,
   "id": "b464f776-36ce-46b2-8629-172a31a19e8d",
   "metadata": {},
   "outputs": [],
   "source": [
    "# Forecasting Prices M steps ahead\n",
    "\n",
    "M = 100\n",
    "\n",
    "for i in range(1,M+1,1):\n",
    "    \n",
    "    current_time = time + i\n",
    "    \n",
    "    prev     = ts_forecast.loc[current_time-1,  'price']\n",
    "    prev_x   = ts_forecast.loc[current_time-1,  'X']\n",
    "    prev_y_x = ts_forecast.loc[current_time-12, 'X']\n",
    "    \n",
    "    log_P      = model_log_prices(current_time,prev, prev_x, prev_y_x)\n",
    "    curr_price = np.exp(log_P)\n",
    "    \n",
    "    ts_forecast.loc[current_time,'price'] = curr_price\n",
    "    \n",
    "    X = residual(prev,curr_price,current_time)\n",
    "    ts_forecast.loc[current_time,'X'] = X"
   ]
  },
  {
   "cell_type": "code",
   "execution_count": 93,
   "id": "315d76ef-8c8d-443d-9fb4-54d841bb8ec3",
   "metadata": {},
   "outputs": [],
   "source": [
    "# Forecasting Storage water N steps ahead\n",
    "\n",
    "N = 100\n",
    "\n",
    "for i in range(1,N+1,1):\n",
    "    \n",
    "    current_time = time + i\n",
    "    \n",
    "    prev_inflow  = ts_forecast.loc[current_time - 1, 'inflow' ]\n",
    "    prev_storage = ts_forecast.loc[current_time - 1, 'storage']\n",
    "    \n",
    "    current_storage = model_storage(model_inflow,prev_inflow, model_evaporation, current_time, prev_storage, prev_inflow)\n",
    "    current_inflow  = model_inflow(current_time, prev_inflow)\n",
    "    \n",
    "    ts_forecast.loc[current_time,'storage'] = current_storage\n",
    "    ts_forecast.loc[current_time,'inflow']  = current_inflow"
   ]
  },
  {
   "cell_type": "code",
   "execution_count": null,
   "id": "55e02196-8a5d-4088-afbb-b581ffc98eaf",
   "metadata": {},
   "outputs": [],
   "source": []
  }
 ],
 "metadata": {
  "kernelspec": {
   "display_name": "Python 3",
   "language": "python",
   "name": "python3"
  },
  "language_info": {
   "codemirror_mode": {
    "name": "ipython",
    "version": 3
   },
   "file_extension": ".py",
   "mimetype": "text/x-python",
   "name": "python",
   "nbconvert_exporter": "python",
   "pygments_lexer": "ipython3",
   "version": "3.9.5"
  }
 },
 "nbformat": 4,
 "nbformat_minor": 5
}
